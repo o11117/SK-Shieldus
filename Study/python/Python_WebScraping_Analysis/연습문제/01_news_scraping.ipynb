{
 "cells": [
  {
   "cell_type": "markdown",
   "id": "d3f34556",
   "metadata": {},
   "source": [
    "#1번 문제"
   ]
  },
  {
   "cell_type": "code",
   "execution_count": null,
   "id": "1ccd2e42",
   "metadata": {},
   "outputs": [
    {
     "name": "stdout",
     "output_type": "stream",
     "text": [
      "https://news.daum.net/economy\n",
      "True 200\n",
      "https://v.daum.net/v/20250722181057244\n",
      "꾸준히 강세 흐름 보이는 메이저 알트코인들 : 코리안 크립토 위클리 [INFCL 리서치]\n",
      "https://v.daum.net/v/20250722175548581\n",
      "세계시장 제패한 K뷰티·푸드…'첨단' 아니라며 R&D지원은 쥐꼬리\n",
      "https://v.daum.net/v/20250722175106335\n",
      "백만이상 日도시 100년뒤 11개→4개 ‘뚝’...“韓 소멸속도 더 빨라”\n",
      "https://v.daum.net/v/20250722174746199\n",
      "예금자보호 1억 시대…내 돈 어디에 맡길까?\n",
      "https://v.daum.net/v/20250722174241984\n",
      "전재수 해수 후보자 조선업 '신경전'에 김정관 산업장관 '신중론'\n",
      "https://v.daum.net/v/20250722171546881\n",
      "식재료비 뛰고 사장님은 늙고…동네 백반집이 사라진다\n",
      "https://v.daum.net/v/20250722171502827\n",
      "“흑자 전환 노린다” 국내외 의료 AI, 실적 경쟁 치열\n",
      "https://v.daum.net/v/20250722164636610\n",
      "한국블록체인스타트업협회 조원희 회장 취임…산업 융합과 글로벌 진출의 ‘종합 허브’ 선언\n",
      "https://v.daum.net/v/20250722164503546\n",
      "범여권 '자사주 소각 의무화' 공세에…野 '포이즌필 제도화' 맞대응\n"
     ]
    }
   ],
   "source": [
    "import requests; import bs4\n",
    "from bs4 import BeautifulSoup\n",
    "\n",
    "url = 'https://news.daum.net/economy'\n",
    "print(url)\n",
    "\n",
    "req_header = {\n",
    "    \"user-agent\": \"Mozilla/5.0 (Windows NT 10.0; Win64; x64) AppleWebKit/537.36 (KHTML, like Gecko) Chrome/134.0.0.0 Safari/537.36\"\n",
    "}\n",
    "\n",
    "res = requests.get(url, headers = req_header)\n",
    "res.encoding = 'utf-8'\n",
    "print(res.ok, res.status_code)\n",
    "\n",
    "if res.ok:\n",
    "    soup = BeautifulSoup(res.text, \"html.parser\")\n",
    "    \n",
    "    for li_tag in soup.select('ul.list_newsheadline2 li'):\n",
    "        a_tag = li_tag.find('a')\n",
    "        link = a_tag['href']\n",
    "        \n",
    "        strong_tag = li_tag.select_one('div.cont_thumb strong.tit_txt')\n",
    "        title = strong_tag.text\n",
    "        print(f'{link}\\n{title}')\n",
    "\n",
    "else:\n",
    "    print(f'에러코드 = {res.status_code}') \n"
   ]
  },
  {
   "cell_type": "markdown",
   "id": "fbcf3ea2",
   "metadata": {},
   "source": [
    "#2번 문제"
   ]
  },
  {
   "cell_type": "code",
   "execution_count": null,
   "id": "6aee5ba4",
   "metadata": {},
   "outputs": [],
   "source": [
    "section_dict = {'기후/환경':'climate','사회':'society','경제':'economy','정치':'politics',\\\n",
    "             '국제':'world','문화':'culture','생활':'life','IT/과학':'tech','인물':'people'}\n",
    "\n",
    "def print_news(section_name):\n",
    "    cat = section_dict[section_name]\n",
    "    url = f'https://news.daum.net/{cat}'\n",
    "    print(f'----------{url} {section_name} 뉴스----------')\n",
    "\n",
    "    req_header = {\n",
    "        \"user-agent\": \"Mozilla/5.0 (Windows NT 10.0; Win64; x64) AppleWebKit/537.36 (KHTML, like Gecko) Chrome/134.0.0.0 Safari/537.36\"\n",
    "}\n",
    "    res = requests.get(url, headers = req_header)\n",
    "   \n",
    "    res.encoding = 'utf-8'\n",
    "\n",
    "    if res.ok:\n",
    "        soup = BeautifulSoup(res.text, \"html.parser\")\n",
    "    \n",
    "        for li_tag in soup.select('ul.list_newsheadline2 li'):\n",
    "            a_tag = li_tag.find('a')\n",
    "            link = a_tag['href']\n",
    "        \n",
    "            strong_tag = li_tag.select_one('div.cont_thumb strong.tit_txt')\n",
    "            title = strong_tag.text\n",
    "            print(f'{link}\\n{title}')\n",
    "\n",
    "    else:\n",
    "        print(f'에러코드 = {res.status_code}') "
   ]
  },
  {
   "cell_type": "code",
   "execution_count": null,
   "id": "e7be9da5",
   "metadata": {},
   "outputs": [
    {
     "name": "stdout",
     "output_type": "stream",
     "text": [
      "----------https://news.daum.net/climate 기후/환경 뉴스----------\n",
      "https://v.daum.net/v/20250722173141469\n",
      "\"곰 249마리 여전히 철창에\"…동물·환경단체, 환경부에 책임 촉구\n",
      "https://v.daum.net/v/20250722172644300\n",
      "KBSI, 지구온난화 따라 달라지는 땅속 유기물질 비밀 밝혀\n",
      "https://v.daum.net/v/20250722172100084\n",
      "김성환 환경부 장관님, 그 약속 꼭 지켜주세요\n",
      "https://v.daum.net/v/20250722172053073\n",
      "\"기후 변화 관측망 필요\"vs\"곶자왈 훼손\"\n",
      "https://v.daum.net/v/20250722165033754\n",
      "수력 그린수소, 연간 온실가스 641톤 감축…나무 10만 그루 효과\n",
      "https://v.daum.net/v/20250722163420037\n",
      "우리나라 여름철 집중호우 이제는 '7월'…기후변화에 따른 재난대응 계획 재검토 필요\n",
      "https://v.daum.net/v/20250722162858788\n",
      "POSTECH, 유네스코 기후위기 대응 국제공동연구에 국내 대학 최초 참여\n",
      "https://v.daum.net/v/20250722161204947\n",
      "부산시 “나무로 탄소 줄이고 수익도”…부산시, 15년짜리 배출권 사업 본격화온실가스 감축 노력\n",
      "https://v.daum.net/v/20250722155656887\n",
      "여야 인정한 '기후·에너지 전문가' 환경장관, 취임식 대신 달려간 곳은\n",
      "----------https://news.daum.net/society 사회 뉴스----------\n",
      "https://v.daum.net/v/20250722182518761\n",
      "길고양이 연쇄 독살 의심…잔혹 동물학대 '왜 이러나'\n",
      "https://v.daum.net/v/20250722182405722\n",
      "성신여대 서수연 교수팀 “밤잠 가장 짧은 한국 아기… 산모 불면증 비율도 가장 높아”\n",
      "https://v.daum.net/v/20250722182242662\n",
      "본과 3학년 대학별 '자율 졸업'···의대 정상화 가닥\n",
      "https://v.daum.net/v/20250722182100596\n",
      "[단독] 등록금 동결에 월급봉투 얇아졌나…기업 사외이사 투잡뛰는 교수님들\n",
      "https://v.daum.net/v/20250722181743481\n",
      "[단독] 가정위탁 양육보조금, 서울·인천만 기준 충족\n",
      "https://v.daum.net/v/20250722181054241\n",
      "광주 고려인들이 보인 지역사회 '공존의 모범'\n",
      "https://v.daum.net/v/20250722181013219\n",
      "'집사' 지인 등 줄줄이 소환...통일교 윤영호 출석\n",
      "https://v.daum.net/v/20250722180607028\n",
      "고2 ‘수포자’ 줄었다… 국어 기초학력 미달 비율은 증가세\n",
      "https://v.daum.net/v/20250722180504989\n",
      "\"같은 다이소인데 직영점선 못 써\"…소비쿠폰 사용처 '혼란'\n"
     ]
    }
   ],
   "source": [
    "print_news('기후/환경')\n",
    "print_news('사회')\n"
   ]
  }
 ],
 "metadata": {
  "kernelspec": {
   "display_name": "base",
   "language": "python",
   "name": "python3"
  },
  "language_info": {
   "codemirror_mode": {
    "name": "ipython",
    "version": 3
   },
   "file_extension": ".py",
   "mimetype": "text/x-python",
   "name": "python",
   "nbconvert_exporter": "python",
   "pygments_lexer": "ipython3",
   "version": "3.12.7"
  }
 },
 "nbformat": 4,
 "nbformat_minor": 5
}
